{
  "nbformat": 4,
  "nbformat_minor": 0,
  "metadata": {
    "colab": {
      "name": "SMS Spam Classifier.ipynb",
      "provenance": [],
      "collapsed_sections": []
    },
    "kernelspec": {
      "name": "python3",
      "display_name": "Python 3"
    },
    "language_info": {
      "name": "python"
    }
  },
  "cells": [
    {
      "cell_type": "code",
      "metadata": {
        "id": "7g1rWK781k07"
      },
      "source": [
        "#pip install nltk\n",
        "#nltk.download()"
      ],
      "execution_count": 15,
      "outputs": []
    },
    {
      "cell_type": "code",
      "metadata": {
        "id": "1_hdv6yA1uU0"
      },
      "source": [
        "import nltk"
      ],
      "execution_count": 8,
      "outputs": []
    },
    {
      "cell_type": "code",
      "metadata": {
        "id": "cH1ldLuG2Ilb"
      },
      "source": [
        "import pandas as pd\n",
        "\n",
        "messages = pd.read_csv('/content/drive/MyDrive/Projects/Spam Classifier/SMSSpamCollection',\n",
        "                       sep='\\t',names = ['label','message'])"
      ],
      "execution_count": 4,
      "outputs": []
    },
    {
      "cell_type": "code",
      "metadata": {
        "id": "8jguQ-CN2QxL"
      },
      "source": [
        "# cleaning the text\n",
        "import re\n",
        "from nltk.stem.porter import PorterStemmer\n",
        "from nltk.stem import WordNetLemmatizer\n",
        "from nltk.corpus import stopwords\n",
        "\n",
        "ps = PorterStemmer()\n",
        "lm = WordNetLemmatizer()\n",
        "corpus = []\n",
        "\n",
        "for i in range(len(messages)):\n",
        "    review = re.sub('[^a-zA-Z]',' ',messages['message'][i])\n",
        "    review = review.lower()\n",
        "    review = review.split()\n",
        "    review = [lm.lemmatize(word) for word in review if word not in set(stopwords.words('english'))]\n",
        "    review = ' '.join(review)\n",
        "    corpus.append(review)"
      ],
      "execution_count": 14,
      "outputs": []
    },
    {
      "cell_type": "code",
      "metadata": {
        "id": "HLsKnO5b3MZM"
      },
      "source": [
        "# creating bag of words and Tfidf\n",
        "from sklearn.feature_extraction.text import CountVectorizer,TfidfVectorizer\n",
        "cv = CountVectorizer(max_features=3000)\n",
        "tfidf = TfidfVectorizer(max_features=3000)\n",
        "x_cv = cv.fit_transform(corpus).toarray()\n",
        "x_tfidf = tfidf.fit_transform(corpus).toarray()"
      ],
      "execution_count": 63,
      "outputs": []
    },
    {
      "cell_type": "code",
      "metadata": {
        "id": "hsGvKeid3adj"
      },
      "source": [
        "y = pd.get_dummies(messages['label'])\n",
        "y = y.iloc[:,1].values"
      ],
      "execution_count": 64,
      "outputs": []
    },
    {
      "cell_type": "markdown",
      "metadata": {
        "id": "k5xUBrLU3lDj"
      },
      "source": [
        "## Using CountVectorizer"
      ]
    },
    {
      "cell_type": "code",
      "metadata": {
        "id": "od6TBFnc3dLZ"
      },
      "source": [
        "# train_test_split\n",
        "from sklearn.model_selection import train_test_split\n",
        "xtrain,xtest,ytrain,ytest = train_test_split(x_cv,y,test_size=0.2,random_state=0)"
      ],
      "execution_count": 65,
      "outputs": []
    },
    {
      "cell_type": "code",
      "metadata": {
        "id": "8CGaLcDk10jg"
      },
      "source": [
        "# training model using naive bayes classifier\n",
        "from sklearn.naive_bayes import MultinomialNB\n",
        "model_cv = MultinomialNB()\n",
        "model_cv.fit(xtrain,ytrain)\n",
        "ypred_cv= model_cv.predict(xtest) \n",
        "\n",
        "from sklearn.metrics import accuracy_score,confusion_matrix\n",
        "accuracy_cv = accuracy_score(ypred_cv,ytest)\n",
        "confusion_matrix_cv = confusion_matrix(ypred_cv,ytest)"
      ],
      "execution_count": 66,
      "outputs": []
    },
    {
      "cell_type": "code",
      "metadata": {
        "colab": {
          "base_uri": "https://localhost:8080/",
          "height": 265
        },
        "id": "OF_BJ5L833G5",
        "outputId": "81e18ab3-3009-47f3-e7ff-6e5c3b8d8b6e"
      },
      "source": [
        "import seaborn as sns\n",
        "import matplotlib.pyplot as plt\n",
        "sns.heatmap(confusion_matrix_cv,annot=True,fmt='10',xticklabels=['ham','spam'],yticklabels=['ham','spam'])\n",
        "plt.show()"
      ],
      "execution_count": 67,
      "outputs": [
        {
          "output_type": "display_data",
          "data": {
            "image/png": "[encoded data removed]",
            "text/plain": [
              "<Figure size 432x288 with 2 Axes>"
            ]
          },
          "metadata": {
            "tags": [],
            "needs_background": "light"
          }
        }
      ]
    },
    {
      "cell_type": "code",
      "metadata": {
        "colab": {
          "base_uri": "https://localhost:8080/"
        },
        "id": "WVEVpG-H3yo0",
        "outputId": "c56c0367-7f80-4e85-d2fd-ad586c71e159"
      },
      "source": [
        "accuracy_cv"
      ],
      "execution_count": 68,
      "outputs": [
        {
          "output_type": "execute_result",
          "data": {
            "text/plain": [
              "0.9838565022421525"
            ]
          },
          "metadata": {
            "tags": []
          },
          "execution_count": 68
        }
      ]
    },
    {
      "cell_type": "markdown",
      "metadata": {
        "id": "eQohBtSg4rCB"
      },
      "source": [
        "## Using TF-IFD Vectorizer"
      ]
    },
    {
      "cell_type": "code",
      "metadata": {
        "id": "tFb-_ITf4xDd"
      },
      "source": [
        "\n",
        "# train_test_split\n",
        "from sklearn.model_selection import train_test_split\n",
        "xtrain,xtest,ytrain,ytest = train_test_split(x_tfidf,y,test_size=0.2,random_state=0)"
      ],
      "execution_count": 69,
      "outputs": []
    },
    {
      "cell_type": "code",
      "metadata": {
        "id": "7vSxfhxj4xDe"
      },
      "source": [
        "# training model using naive bayes classifier\n",
        "from sklearn.naive_bayes import MultinomialNB\n",
        "model_tfidf = MultinomialNB()\n",
        "model_tfidf.fit(xtrain,ytrain)\n",
        "ypred_tfidf= model_tfidf.predict(xtest) \n",
        "\n",
        "from sklearn.metrics import accuracy_score,confusion_matrix\n",
        "accuracy_tfidf = accuracy_score(ypred_tfidf,ytest)\n",
        "confusion_matrix_tfidf = confusion_matrix(ypred_tfidf,ytest)"
      ],
      "execution_count": 70,
      "outputs": []
    },
    {
      "cell_type": "code",
      "metadata": {
        "colab": {
          "base_uri": "https://localhost:8080/",
          "height": 265
        },
        "id": "xkBUfbB24xDe",
        "outputId": "e6ca2834-0bfc-4384-f2b5-e8b67dc8996e"
      },
      "source": [
        "import seaborn as sns\n",
        "import matplotlib.pyplot as plt\n",
        "sns.heatmap(confusion_matrix_tfidf,annot=True,fmt='10',xticklabels=['ham','spam'],yticklabels=['ham','spam'])\n",
        "plt.show()"
      ],
      "execution_count": 71,
      "outputs": [
        {
          "output_type": "display_data",
          "data": {
            "image/png": "[encoded data removed]",
            "text/plain": [
              "<Figure size 432x288 with 2 Axes>"
            ]
          },
          "metadata": {
            "tags": [],
            "needs_background": "light"
          }
        }
      ]
    },
    {
      "cell_type": "code",
      "metadata": {
        "colab": {
          "base_uri": "https://localhost:8080/"
        },
        "id": "WZHW-UmO4xDf",
        "outputId": "497434f7-0b54-4748-9ae0-5756bdedde14"
      },
      "source": [
        "accuracy_tfidf"
      ],
      "execution_count": 72,
      "outputs": [
        {
          "output_type": "execute_result",
          "data": {
            "text/plain": [
              "0.97847533632287"
            ]
          },
          "metadata": {
            "tags": []
          },
          "execution_count": 72
        }
      ]
    },
    {
      "cell_type": "code",
      "metadata": {
        "id": "tmFKQfaq49I-"
      },
      "source": [
        ""
      ],
      "execution_count": null,
      "outputs": []
    }
  ]
}